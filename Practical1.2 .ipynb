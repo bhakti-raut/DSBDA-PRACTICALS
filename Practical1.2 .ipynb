{
 "cells": [
  {
   "cell_type": "code",
   "execution_count": 1,
   "id": "03935520",
   "metadata": {},
   "outputs": [],
   "source": [
    "import pandas as pd\n",
    "# Inventory DataFrame\n",
    "data = {\n",
    "    \"Location1\": [100, 50, 300, 200, 80],\n",
    "    \"Location2\": [200, 60, 400, 250, 90],\n",
    "    \"Location3\": [150, 40, 350, 220, 70],\n",
    "    \"Location4\": [300, 80, 500, 270, 100]\n",
    "}\n",
    "inventory = pd.DataFrame(data, index=[\"Product1\", \"Product2\", \"Product3\", \"Product4\", \"Product5\"])"
   ]
  },
  {
   "cell_type": "code",
   "execution_count": 2,
   "id": "77baf06d",
   "metadata": {},
   "outputs": [
    {
     "data": {
      "text/html": [
       "<div>\n",
       "<style scoped>\n",
       "    .dataframe tbody tr th:only-of-type {\n",
       "        vertical-align: middle;\n",
       "    }\n",
       "\n",
       "    .dataframe tbody tr th {\n",
       "        vertical-align: top;\n",
       "    }\n",
       "\n",
       "    .dataframe thead th {\n",
       "        text-align: right;\n",
       "    }\n",
       "</style>\n",
       "<table border=\"1\" class=\"dataframe\">\n",
       "  <thead>\n",
       "    <tr style=\"text-align: right;\">\n",
       "      <th></th>\n",
       "      <th>Location1</th>\n",
       "      <th>Location2</th>\n",
       "      <th>Location3</th>\n",
       "      <th>Location4</th>\n",
       "    </tr>\n",
       "  </thead>\n",
       "  <tbody>\n",
       "    <tr>\n",
       "      <th>Product1</th>\n",
       "      <td>100</td>\n",
       "      <td>200</td>\n",
       "      <td>150</td>\n",
       "      <td>300</td>\n",
       "    </tr>\n",
       "    <tr>\n",
       "      <th>Product2</th>\n",
       "      <td>50</td>\n",
       "      <td>60</td>\n",
       "      <td>40</td>\n",
       "      <td>80</td>\n",
       "    </tr>\n",
       "  </tbody>\n",
       "</table>\n",
       "</div>"
      ],
      "text/plain": [
       "          Location1  Location2  Location3  Location4\n",
       "Product1        100        200        150        300\n",
       "Product2         50         60         40         80"
      ]
     },
     "execution_count": 2,
     "metadata": {},
     "output_type": "execute_result"
    }
   ],
   "source": [
    "# 1.  Display the first two rows of the inventory DataFrame.\n",
    "inventory.head(2)"
   ]
  },
  {
   "cell_type": "code",
   "execution_count": 3,
   "id": "6cf63769",
   "metadata": {},
   "outputs": [
    {
     "data": {
      "text/plain": [
       "(5, 4)"
      ]
     },
     "execution_count": 3,
     "metadata": {},
     "output_type": "execute_result"
    }
   ],
   "source": [
    "# 2.Get the total number of rows and columns in the DataFrame.\n",
    "inventory.shape"
   ]
  },
  {
   "cell_type": "code",
   "execution_count": 4,
   "id": "fa4afed9",
   "metadata": {},
   "outputs": [
    {
     "data": {
      "text/plain": [
       "['Location1', 'Location2', 'Location3', 'Location4']"
      ]
     },
     "execution_count": 4,
     "metadata": {},
     "output_type": "execute_result"
    }
   ],
   "source": [
    "# 3. List the column names and row indices.\n",
    "inventory.columns.tolist()"
   ]
  },
  {
   "cell_type": "code",
   "execution_count": 5,
   "id": "dcdd6308",
   "metadata": {},
   "outputs": [
    {
     "data": {
      "text/plain": [
       "['Product1', 'Product2', 'Product3', 'Product4', 'Product5']"
      ]
     },
     "execution_count": 5,
     "metadata": {},
     "output_type": "execute_result"
    }
   ],
   "source": [
    "# row indices\n",
    "inventory.index.tolist()"
   ]
  },
  {
   "cell_type": "code",
   "execution_count": 6,
   "id": "9c3bef3a",
   "metadata": {},
   "outputs": [
    {
     "data": {
      "text/plain": [
       "Location1    int64\n",
       "Location2    int64\n",
       "Location3    int64\n",
       "Location4    int64\n",
       "dtype: object"
      ]
     },
     "execution_count": 6,
     "metadata": {},
     "output_type": "execute_result"
    }
   ],
   "source": [
    "# 4. Display the data type of each column in the DataFrame\n",
    "inventory.dtypes"
   ]
  },
  {
   "cell_type": "code",
   "execution_count": 7,
   "id": "21420423",
   "metadata": {},
   "outputs": [
    {
     "data": {
      "text/plain": [
       "Location1    0\n",
       "Location2    0\n",
       "Location3    0\n",
       "Location4    0\n",
       "dtype: int64"
      ]
     },
     "execution_count": 7,
     "metadata": {},
     "output_type": "execute_result"
    }
   ],
   "source": [
    "# 5.Check if there are any missing values in the DataFrame.\n",
    "inventory.isnull().sum()"
   ]
  },
  {
   "cell_type": "code",
   "execution_count": 8,
   "id": "3c146b09",
   "metadata": {},
   "outputs": [
    {
     "name": "stdout",
     "output_type": "stream",
     "text": [
      "Location1    300\n",
      "Location2    400\n",
      "Location3    350\n",
      "Location4    500\n",
      "Name: Product3, dtype: int64\n"
     ]
    }
   ],
   "source": [
    "# 6.Retrieve the stock levels for \"Product3\" across all locations. \n",
    "print(inventory.loc[\"Product3\"])"
   ]
  },
  {
   "cell_type": "code",
   "execution_count": 9,
   "id": "c0ecf150",
   "metadata": {},
   "outputs": [
    {
     "name": "stdout",
     "output_type": "stream",
     "text": [
      "Product1    200\n",
      "Product2     60\n",
      "Product3    400\n",
      "Product4    250\n",
      "Product5     90\n",
      "Name: Location2, dtype: int64\n"
     ]
    }
   ],
   "source": [
    "# 7.Extract the stock levels for \"Location2\" across all products.\n",
    "print(inventory.iloc[:, 1])\n"
   ]
  },
  {
   "cell_type": "code",
   "execution_count": 10,
   "id": "bd3ef23f",
   "metadata": {},
   "outputs": [
    {
     "name": "stdout",
     "output_type": "stream",
     "text": [
      "          Location1  Location3\n",
      "Product1        100        150\n",
      "Product4        200        220\n"
     ]
    }
   ],
   "source": [
    "# 8.Retrieve the stock levels of \"Product 1\" and \"Product4\" for \"Location1\" and \"Location3\".\n",
    "print(inventory.iloc[[0,3],[0,2]])"
   ]
  },
  {
   "cell_type": "code",
   "execution_count": 11,
   "id": "6780c0c1",
   "metadata": {},
   "outputs": [
    {
     "name": "stdout",
     "output_type": "stream",
     "text": [
      "          Location1  Location2  Location3  Location4\n",
      "Product1        100        200        150        300\n",
      "Product2         50         60         40         80\n",
      "Product3        300        400        350        500\n"
     ]
    }
   ],
   "source": [
    "# 9.Slice the DataFrame to get the first 3 products and the first 2 locations.\n",
    "print(inventory.iloc[0:3,0:4])"
   ]
  },
  {
   "cell_type": "code",
   "execution_count": 12,
   "id": "f5c88159",
   "metadata": {},
   "outputs": [
    {
     "name": "stdout",
     "output_type": "stream",
     "text": [
      "70\n"
     ]
    }
   ],
   "source": [
    "# 10.Retrieve the stock level of \"Product 5\" at \"Location 3\" \n",
    "print(inventory.loc[\"Product5\", \"Location3\"])"
   ]
  },
  {
   "cell_type": "code",
   "execution_count": 13,
   "id": "733faea0",
   "metadata": {},
   "outputs": [
    {
     "name": "stdout",
     "output_type": "stream",
     "text": [
      "          Location1  Location2  Location3  Location4\n",
      "Product1        100        200        150        300\n",
      "Product2         50         60         40        120\n",
      "Product3        300        400        350        500\n",
      "Product4        200        250        220        270\n",
      "Product5         80         90         70        100\n"
     ]
    }
   ],
   "source": [
    "# 11.Update the stock level of \"Product2\" at \"Location4\" to 120 units.\n",
    "inventory.loc[\"Product2\", \"Location4\"] = 120\n",
    "print(inventory)"
   ]
  },
  {
   "cell_type": "code",
   "execution_count": 14,
   "id": "e43073ac",
   "metadata": {},
   "outputs": [
    {
     "name": "stdout",
     "output_type": "stream",
     "text": [
      "          Location1  Location2  Location3  Location4\n",
      "Product1        100        200        150        300\n",
      "Product2         50         60         40        120\n",
      "Product3        300        400        350        500\n",
      "Product4        200        250        220        270\n",
      "Product5         80         90         70        100\n",
      "Product6        150        180        140        200\n"
     ]
    }
   ],
   "source": [
    "#12.Add a new row for \"Product6\" with the stock levels [150, 180, 140, 200].\n",
    "inventory.loc[\"Product6\"] = [150, 180, 140, 200]\n",
    "print(inventory)"
   ]
  },
  {
   "cell_type": "code",
   "execution_count": 15,
   "id": "83dd6aa8",
   "metadata": {},
   "outputs": [
    {
     "name": "stdout",
     "output_type": "stream",
     "text": [
      "          Location1  Location2  Location3  Location4\n",
      "Product1        110        210        160        310\n",
      "Product2         60         70         50        130\n",
      "Product3        310        410        360        510\n",
      "Product4        210        260        230        280\n",
      "Product5         90        100         80        110\n",
      "Product6        160        190        150        210\n"
     ]
    }
   ],
   "source": [
    "#13.Add 10 units to the stock of all products across all locations.\n",
    "inventory = inventory + 10\n",
    "print(inventory)"
   ]
  },
  {
   "cell_type": "code",
   "execution_count": 16,
   "id": "fcd524d7",
   "metadata": {},
   "outputs": [
    {
     "name": "stdout",
     "output_type": "stream",
     "text": [
      "          Location1  Location2  Location3  Location4\n",
      "Product1        110        210        160        310\n",
      "Product2         60         70         50        130\n",
      "Product3        310        410        360        510\n",
      "Product4        205        255        225        275\n",
      "Product5         90        100         80        110\n",
      "Product6        160        190        150        210\n"
     ]
    }
   ],
   "source": [
    "#14. Deduct 5 units from the stock of \"Product4\" in all locations.\n",
    "inventory.loc[\"Product4\"] = inventory.loc[\"Product4\"] - 5\n",
    "print(inventory)"
   ]
  },
  {
   "cell_type": "code",
   "execution_count": 17,
   "id": "c896a79d",
   "metadata": {},
   "outputs": [
    {
     "name": "stdout",
     "output_type": "stream",
     "text": [
      "          Location1  Location2  Location3  Location4\n",
      "Product1       11.0       21.0       16.0       31.0\n",
      "Product2        6.0        7.0        5.0       13.0\n",
      "Product3       31.0       41.0       36.0       51.0\n",
      "Product4       20.5       25.5       22.5       27.5\n",
      "Product5        9.0       10.0        8.0       11.0\n",
      "Product6       16.0       19.0       15.0       21.0\n"
     ]
    }
   ],
   "source": [
    "#15.Calculate the percentage of stock available for each product at all locations, assuming each location has a maximum capacity of 1000 units.\n",
    "\n",
    "max_capacity = 1000\n",
    "percentage_stock = (inventory / max_capacity) * 100\n",
    "print(percentage_stock)"
   ]
  },
  {
   "cell_type": "code",
   "execution_count": 18,
   "id": "9c7259a9",
   "metadata": {},
   "outputs": [
    {
     "name": "stdout",
     "output_type": "stream",
     "text": [
      "Product1     790\n",
      "Product2     310\n",
      "Product3    1590\n",
      "Product4     960\n",
      "Product5     380\n",
      "Product6     710\n",
      "dtype: int64\n"
     ]
    }
   ],
   "source": [
    "#16.Calculate the total stock of each product across all locations.\n",
    "total_stock_per_product = inventory.sum(axis=1)\n",
    "print(total_stock_per_product)"
   ]
  },
  {
   "cell_type": "code",
   "execution_count": 19,
   "id": "952ff38a",
   "metadata": {},
   "outputs": [
    {
     "name": "stdout",
     "output_type": "stream",
     "text": [
      "Location1     935\n",
      "Location2    1235\n",
      "Location3    1025\n",
      "Location4    1545\n",
      "dtype: int64\n"
     ]
    }
   ],
   "source": [
    "#17. Determine the Total stock available in each location.\n",
    "total_stock_per_location = inventory.sum(axis=0)\n",
    "print(total_stock_per_location)"
   ]
  },
  {
   "cell_type": "code",
   "execution_count": 20,
   "id": "47496ca9",
   "metadata": {},
   "outputs": [
    {
     "name": "stdout",
     "output_type": "stream",
     "text": [
      "Product3\n"
     ]
    }
   ],
   "source": [
    "#18.Find the Product with the highest total stock.\n",
    "max_stock_product = total_stock_per_product.idxmax()\n",
    "print(max_stock_product)"
   ]
  },
  {
   "cell_type": "code",
   "execution_count": 21,
   "id": "0d8adaf2",
   "metadata": {},
   "outputs": [
    {
     "name": "stdout",
     "output_type": "stream",
     "text": [
      "Location1\n"
     ]
    }
   ],
   "source": [
    "#19.Identify the Location with the lowest total stock.\n",
    "min_stock_location = total_stock_per_location.idxmin()\n",
    "print(min_stock_location)"
   ]
  },
  {
   "cell_type": "code",
   "execution_count": 22,
   "id": "9a1df8da",
   "metadata": {},
   "outputs": [
    {
     "name": "stdout",
     "output_type": "stream",
     "text": [
      "Location1    155.833333\n",
      "Location2    205.833333\n",
      "Location3    170.833333\n",
      "Location4    257.500000\n",
      "dtype: float64\n"
     ]
    }
   ],
   "source": [
    "#20.Compute the  Average stock per location.\n",
    "average_stock_per_location = inventory.mean(axis=0)\n",
    "print(average_stock_per_location)"
   ]
  },
  {
   "cell_type": "code",
   "execution_count": 23,
   "id": "76abb9b4",
   "metadata": {},
   "outputs": [
    {
     "name": "stdout",
     "output_type": "stream",
     "text": [
      "          Location1  Location2  Location3  Location4  Total Stock\n",
      "Product1        110        210        160        310          790\n",
      "Product2         60         70         50        130          310\n",
      "Product3        310        410        360        510         1590\n",
      "Product4        205        255        225        275          960\n",
      "Product5         90        100         80        110          380\n",
      "Product6        160        190        150        210          710\n"
     ]
    }
   ],
   "source": [
    "#21. Add a new column called 'Total Stock to display the total stock of each product.\n",
    "inventory[\"Total Stock\"] = total_stock_per_product\n",
    "print(inventory)\n"
   ]
  },
  {
   "cell_type": "code",
   "execution_count": 24,
   "id": "2f8204ea",
   "metadata": {},
   "outputs": [
    {
     "name": "stdout",
     "output_type": "stream",
     "text": [
      "          Location1  Location2  Location3  Location4  Total Stock\n",
      "Product3        310        410        360        510         1590\n",
      "Product4        205        255        225        275          960\n",
      "Product1        110        210        160        310          790\n",
      "Product6        160        190        150        210          710\n",
      "Product5         90        100         80        110          380\n",
      "Product2         60         70         50        130          310\n"
     ]
    }
   ],
   "source": [
    "#22.Sort the DataFrame based on the 'Total Stock' column in descending order:\")\n",
    "sorted_inventory = inventory.sort_values(\"Total Stock\", ascending=False)\n",
    "print(sorted_inventory)\n"
   ]
  },
  {
   "cell_type": "code",
   "execution_count": 25,
   "id": "7e28a971",
   "metadata": {},
   "outputs": [
    {
     "name": "stdout",
     "output_type": "stream",
     "text": [
      "          Location1  Location2  Location3  Location4  Total Stock\n",
      "Product3        310        410        360        510         1590\n"
     ]
    }
   ],
   "source": [
    "#23. Filter the  Products with a total stock of more than 1000 units:\")\n",
    "filtered_inventory = inventory[inventory[\"Total Stock\"] > 1000]\n",
    "print(filtered_inventory)"
   ]
  },
  {
   "cell_type": "code",
   "execution_count": null,
   "id": "0b9175f4",
   "metadata": {},
   "outputs": [],
   "source": []
  }
 ],
 "metadata": {
  "kernelspec": {
   "display_name": "Python 3 (ipykernel)",
   "language": "python",
   "name": "python3"
  },
  "language_info": {
   "codemirror_mode": {
    "name": "ipython",
    "version": 3
   },
   "file_extension": ".py",
   "mimetype": "text/x-python",
   "name": "python",
   "nbconvert_exporter": "python",
   "pygments_lexer": "ipython3",
   "version": "3.11.5"
  }
 },
 "nbformat": 4,
 "nbformat_minor": 5
}
