{
 "cells": [
  {
   "cell_type": "code",
   "execution_count": 1,
   "id": "a8d9d47d",
   "metadata": {},
   "outputs": [
    {
     "name": "stderr",
     "output_type": "stream",
     "text": [
      "[nltk_data] Downloading package punkt to\n",
      "[nltk_data]     C:\\Users\\Bhakti\\AppData\\Roaming\\nltk_data...\n",
      "[nltk_data]   Unzipping tokenizers\\punkt.zip.\n",
      "[nltk_data] Downloading package stopwords to\n",
      "[nltk_data]     C:\\Users\\Bhakti\\AppData\\Roaming\\nltk_data...\n",
      "[nltk_data]   Unzipping corpora\\stopwords.zip.\n",
      "[nltk_data] Downloading package wordnet to\n",
      "[nltk_data]     C:\\Users\\Bhakti\\AppData\\Roaming\\nltk_data...\n",
      "[nltk_data] Downloading package averaged_perceptron_tagger to\n",
      "[nltk_data]     C:\\Users\\Bhakti\\AppData\\Roaming\\nltk_data...\n",
      "[nltk_data]   Unzipping taggers\\averaged_perceptron_tagger.zip.\n",
      "[nltk_data] Downloading package punkt_tab to\n",
      "[nltk_data]     C:\\Users\\Bhakti\\AppData\\Roaming\\nltk_data...\n",
      "[nltk_data]   Unzipping tokenizers\\punkt_tab.zip.\n",
      "[nltk_data] Downloading package averaged_perceptron_tagger_eng to\n",
      "[nltk_data]     C:\\Users\\Bhakti\\AppData\\Roaming\\nltk_data...\n",
      "[nltk_data]   Unzipping taggers\\averaged_perceptron_tagger_eng.zip.\n"
     ]
    }
   ],
   "source": [
    "import nltk\n",
    "nltk.download('punkt')\n",
    "nltk.download('stopwords')\n",
    "nltk.download('wordnet')\n",
    "nltk.download('averaged_perceptron_tagger')\n",
    "nltk.download('punkt_tab')\n",
    "nltk.download('averaged_perceptron_tagger_eng')\n",
    "import re"
   ]
  },
  {
   "cell_type": "code",
   "execution_count": 3,
   "id": "887f934c",
   "metadata": {},
   "outputs": [],
   "source": [
    "text= \"Tokenization is the first step in text analytics. The process of breaking down a text paragraph into smaller chunks such as words or sentences is called Tokenization.\""
   ]
  },
  {
   "cell_type": "code",
   "execution_count": 5,
   "id": "a81e46f5",
   "metadata": {},
   "outputs": [
    {
     "name": "stdout",
     "output_type": "stream",
     "text": [
      "['Tokenization is the first step in text analytics.', 'The process of breaking down a text paragraph into smaller chunks such as words or sentences is called Tokenization.']\n",
      "['Tokenization', 'is', 'the', 'first', 'step', 'in', 'text', 'analytics', '.', 'The', 'process', 'of', 'breaking', 'down', 'a', 'text', 'paragraph', 'into', 'smaller', 'chunks', 'such', 'as', 'words', 'or', 'sentences', 'is', 'called', 'Tokenization', '.']\n"
     ]
    }
   ],
   "source": [
    "#Sentence Tokenization\n",
    "\n",
    "from nltk.tokenize import sent_tokenize\n",
    "tokenized_text=sent_tokenize(text)\n",
    "print(tokenized_text)\n",
    "\n",
    "#Word Tokenization\n",
    "\n",
    "from nltk.tokenize import word_tokenize\n",
    "tokenized_word=word_tokenize(text)\n",
    "print(tokenized_word)\n",
    "\n"
   ]
  },
  {
   "cell_type": "code",
   "execution_count": 6,
   "id": "83e7651b",
   "metadata": {},
   "outputs": [
    {
     "name": "stdout",
     "output_type": "stream",
     "text": [
      "{\"we've\", 'under', 'with', \"you'll\", \"she'll\", \"hadn't\", 'her', 'did', 'their', 'some', 'that', \"you're\", 'yours', \"wouldn't\", 'were', 'does', 'isn', \"shan't\", 'is', 'what', 'at', 'because', 'was', \"it's\", 'don', 'ain', 'mightn', 'up', 'can', 'its', 'we', 'won', 'ourselves', \"i'll\", 'and', 'been', \"doesn't\", \"we're\", 'i', 'y', 'has', \"you've\", 'through', 'below', 'had', 'my', 'about', 'will', 'when', \"we'd\", \"aren't\", 'ma', 'here', \"they'll\", 'same', 'am', 'such', \"didn't\", \"haven't\", 'all', 'shouldn', 'few', 'yourselves', \"that'll\", 'too', \"we'll\", \"they've\", \"he'd\", 'during', 'hasn', 'himself', \"isn't\", 'mustn', 'the', \"i've\", 'then', 'o', \"shouldn't\", 'your', 'doing', 's', 'while', 're', 'between', 'before', 'being', 'm', 'are', 'he', 'hadn', 'off', \"don't\", 'most', 'it', \"weren't\", 'shan', 'out', 'needn', 'who', 'themselves', 'doesn', 'again', 'those', 'from', \"mightn't\", 'down', 'where', 'a', 'd', 'to', 've', \"wasn't\", \"should've\", 'than', 'an', \"you'd\", \"couldn't\", 'yourself', \"she's\", 'own', \"they'd\", 'should', \"it'll\", 'now', 'itself', 'do', \"it'd\", 'both', 'of', 'wasn', 'by', \"needn't\", 'or', 'theirs', \"they're\", 'how', 'no', \"hasn't\", 'hers', 'll', 'only', 'until', 'into', 'these', 'on', 'this', 'why', 'our', 'so', 't', 'after', \"she'd\", 'if', 'weren', 'you', 'once', 'there', 'didn', 'further', 'not', 'him', 'myself', 'she', 'have', 'them', 'his', \"i'm\", 'having', 'for', 'me', 'which', 'herself', 'nor', 'other', 'very', 'haven', \"won't\", 'in', \"mustn't\", 'each', 'as', 'wouldn', 'above', \"he's\", 'any', 'whom', \"he'll\", 'aren', 'be', 'over', 'but', 'more', 'just', 'ours', 'against', 'they', \"i'd\", 'couldn'}\n"
     ]
    }
   ],
   "source": [
    "# print stop words of English\n",
    "\n",
    "from nltk.corpus import stopwords\n",
    "stop_words=set(stopwords.words(\"english\"))\n",
    "print(stop_words)"
   ]
  },
  {
   "cell_type": "code",
   "execution_count": 8,
   "id": "5d9f73ab",
   "metadata": {},
   "outputs": [
    {
     "name": "stdout",
     "output_type": "stream",
     "text": [
      "Tokenized Sentence: ['how', 'to', 'remove', 'stop', 'words', 'with', 'nltk', 'library', 'in', 'python']\n",
      "Filterd Sentence: ['remove', 'stop', 'words', 'nltk', 'library', 'python']\n"
     ]
    }
   ],
   "source": [
    "text= \"How to remove stop words with NLTK library in Python?\"\n",
    "text= re.sub('[^a-zA-Z]', ' ',text)\n",
    "tokens = word_tokenize(text.lower())\n",
    "filtered_text=[]\n",
    "for w in tokens:\n",
    "    if w not in stop_words:\n",
    "        filtered_text.append(w)\n",
    "print(\"Tokenized Sentence:\",tokens)\n",
    "print(\"Filterd Sentence:\",filtered_text)"
   ]
  },
  {
   "cell_type": "code",
   "execution_count": 9,
   "id": "621bfe5b",
   "metadata": {},
   "outputs": [
    {
     "name": "stdout",
     "output_type": "stream",
     "text": [
      "wait\n",
      "wait\n",
      "wait\n",
      "wait\n"
     ]
    }
   ],
   "source": [
    "from nltk.stem import PorterStemmer\n",
    "e_words= [\"wait\", \"waiting\", \"waited\",\"waits\"]\n",
    "ps =PorterStemmer()\n",
    "for w in e_words:\n",
    "    rootWord=ps.stem(w)\n",
    "    print(rootWord)"
   ]
  },
  {
   "cell_type": "code",
   "execution_count": 10,
   "id": "ea83cc8b",
   "metadata": {},
   "outputs": [
    {
     "name": "stdout",
     "output_type": "stream",
     "text": [
      "Lemma for studies: study\n",
      "Lemma for studying: studying\n",
      "Lemma for cries: cry\n",
      "Lemma for cry: cry\n"
     ]
    }
   ],
   "source": [
    "#  Perform Lemmatization\n",
    "from nltk.stem import WordNetLemmatizer\n",
    "\n",
    "wordnet_lemmatizer = WordNetLemmatizer() \n",
    "text = \"studies studying cries cry\" \n",
    "tokenization = nltk.word_tokenize(text)\n",
    "for w in tokenization:\n",
    "    print(\"Lemma for {}: {}\".format(w, wordnet_lemmatizer.lemmatize(w)))"
   ]
  },
  {
   "cell_type": "code",
   "execution_count": 11,
   "id": "8897cbd6",
   "metadata": {},
   "outputs": [
    {
     "name": "stdout",
     "output_type": "stream",
     "text": [
      "[('The', 'DT')]\n",
      "[('pink', 'NN')]\n",
      "[('sweater', 'NN')]\n",
      "[('fit', 'NN')]\n",
      "[('her', 'PRP$')]\n",
      "[('perfectly', 'RB')]\n"
     ]
    }
   ],
   "source": [
    "#Apply POS Tagging to text\n",
    "from nltk.tokenize import word_tokenize\n",
    "data=\"The pink sweater fit her perfectly\"\n",
    "words=word_tokenize(data)\n",
    "\n",
    "for word in words:\n",
    "    print(nltk.pos_tag([word]))"
   ]
  },
  {
   "cell_type": "code",
   "execution_count": 12,
   "id": "fd63a822",
   "metadata": {},
   "outputs": [],
   "source": [
    "import pandas as pd\n",
    "from sklearn.feature_extraction.text import TfidfVectorizer\n",
    "import math"
   ]
  },
  {
   "cell_type": "code",
   "execution_count": 13,
   "id": "78dac58f",
   "metadata": {},
   "outputs": [],
   "source": [
    "documentA = 'Jupiter is the largest Planet'\n",
    "documentB = 'Mars is the fourth planet from the Sun'\n"
   ]
  },
  {
   "cell_type": "code",
   "execution_count": 14,
   "id": "d667ea42",
   "metadata": {},
   "outputs": [],
   "source": [
    "bagOfWordsA = documentA.split(' ')\n",
    "bagOfWordsB = documentB.split(' ')"
   ]
  },
  {
   "cell_type": "code",
   "execution_count": 15,
   "id": "fd5e3235",
   "metadata": {},
   "outputs": [
    {
     "data": {
      "text/plain": [
       "['Jupiter', 'is', 'the', 'largest', 'Planet']"
      ]
     },
     "execution_count": 15,
     "metadata": {},
     "output_type": "execute_result"
    }
   ],
   "source": [
    "bagOfWordsA"
   ]
  },
  {
   "cell_type": "code",
   "execution_count": 16,
   "id": "ca1efe83",
   "metadata": {},
   "outputs": [
    {
     "data": {
      "text/plain": [
       "['Mars', 'is', 'the', 'fourth', 'planet', 'from', 'the', 'Sun']"
      ]
     },
     "execution_count": 16,
     "metadata": {},
     "output_type": "execute_result"
    }
   ],
   "source": [
    "bagOfWordsB"
   ]
  },
  {
   "cell_type": "code",
   "execution_count": 17,
   "id": "09b9bb7e",
   "metadata": {},
   "outputs": [
    {
     "data": {
      "text/plain": [
       "{'Jupiter',\n",
       " 'Mars',\n",
       " 'Planet',\n",
       " 'Sun',\n",
       " 'fourth',\n",
       " 'from',\n",
       " 'is',\n",
       " 'largest',\n",
       " 'planet',\n",
       " 'the'}"
      ]
     },
     "execution_count": 17,
     "metadata": {},
     "output_type": "execute_result"
    }
   ],
   "source": [
    "uniqueWords = set(bagOfWordsA).union(set(bagOfWordsB))\n",
    "uniqueWords "
   ]
  },
  {
   "cell_type": "code",
   "execution_count": 18,
   "id": "cf9ccec2",
   "metadata": {},
   "outputs": [],
   "source": [
    "numOfWordsA = dict.fromkeys(uniqueWords, 0)\n",
    "for word in bagOfWordsA:\n",
    "    numOfWordsA[word] += 1\n",
    "    \n",
    "numOfWordsB = dict.fromkeys(uniqueWords,0)\n",
    "for word in bagOfWordsB:\n",
    "    numOfWordsB[word] += 1"
   ]
  },
  {
   "cell_type": "code",
   "execution_count": 20,
   "id": "98b9397e",
   "metadata": {},
   "outputs": [
    {
     "data": {
      "text/plain": [
       "{'from': 0,\n",
       " 'Sun': 0,\n",
       " 'Mars': 0,\n",
       " 'the': 1,\n",
       " 'fourth': 0,\n",
       " 'Jupiter': 1,\n",
       " 'Planet': 1,\n",
       " 'is': 1,\n",
       " 'planet': 0,\n",
       " 'largest': 1}"
      ]
     },
     "execution_count": 20,
     "metadata": {},
     "output_type": "execute_result"
    }
   ],
   "source": [
    "numOfWordsA"
   ]
  },
  {
   "cell_type": "code",
   "execution_count": 22,
   "id": "371a24b7",
   "metadata": {},
   "outputs": [
    {
     "data": {
      "text/plain": [
       "{'from': 1,\n",
       " 'Sun': 1,\n",
       " 'Mars': 1,\n",
       " 'the': 2,\n",
       " 'fourth': 1,\n",
       " 'Jupiter': 0,\n",
       " 'Planet': 0,\n",
       " 'is': 1,\n",
       " 'planet': 1,\n",
       " 'largest': 0}"
      ]
     },
     "execution_count": 22,
     "metadata": {},
     "output_type": "execute_result"
    }
   ],
   "source": [
    "numOfWordsB"
   ]
  },
  {
   "cell_type": "code",
   "execution_count": 23,
   "id": "b5b94a23",
   "metadata": {},
   "outputs": [],
   "source": [
    "def computeTF(wordDict, bagOfWords):\n",
    "    tfDict = {}\n",
    "    bagOfWordsCount = len(bagOfWords)\n",
    "    for word, count in wordDict.items():\n",
    "        tfDict[word] = count / float(bagOfWordsCount)\n",
    "    return tfDict\n",
    "\n",
    "tfA = computeTF(numOfWordsA, bagOfWordsA)\n",
    "tfB = computeTF(numOfWordsB, bagOfWordsB)"
   ]
  },
  {
   "cell_type": "code",
   "execution_count": 24,
   "id": "a1b0f1fa",
   "metadata": {},
   "outputs": [
    {
     "data": {
      "text/plain": [
       "{'from': 0.0,\n",
       " 'Sun': 0.0,\n",
       " 'Mars': 0.0,\n",
       " 'the': 0.2,\n",
       " 'fourth': 0.0,\n",
       " 'Jupiter': 0.2,\n",
       " 'Planet': 0.2,\n",
       " 'is': 0.2,\n",
       " 'planet': 0.0,\n",
       " 'largest': 0.2}"
      ]
     },
     "execution_count": 24,
     "metadata": {},
     "output_type": "execute_result"
    }
   ],
   "source": [
    "tfA"
   ]
  },
  {
   "cell_type": "code",
   "execution_count": 25,
   "id": "dc083522",
   "metadata": {},
   "outputs": [
    {
     "data": {
      "text/plain": [
       "{'from': 0.125,\n",
       " 'Sun': 0.125,\n",
       " 'Mars': 0.125,\n",
       " 'the': 0.25,\n",
       " 'fourth': 0.125,\n",
       " 'Jupiter': 0.0,\n",
       " 'Planet': 0.0,\n",
       " 'is': 0.125,\n",
       " 'planet': 0.125,\n",
       " 'largest': 0.0}"
      ]
     },
     "execution_count": 25,
     "metadata": {},
     "output_type": "execute_result"
    }
   ],
   "source": [
    "tfB"
   ]
  },
  {
   "cell_type": "code",
   "execution_count": 26,
   "id": "5a6020e7",
   "metadata": {},
   "outputs": [],
   "source": [
    "def computeIDF(documents):\n",
    "    N = len(documents)\n",
    "    idfDict = dict.fromkeys(documents[0].keys(),0)\n",
    "    for document in documents:\n",
    "        for word, val in document.items():\n",
    "            if val > 0:\n",
    "                idfDict[word] += 1\n",
    "    for word, val in idfDict.items():\n",
    "        idfDict[word] = math.log(N / float(val))\n",
    "    return idfDict\n",
    "idfs = computeIDF([numOfWordsA, numOfWordsB])"
   ]
  },
  {
   "cell_type": "code",
   "execution_count": 27,
   "id": "30995e57",
   "metadata": {},
   "outputs": [
    {
     "data": {
      "text/plain": [
       "{'from': 0.6931471805599453,\n",
       " 'Sun': 0.6931471805599453,\n",
       " 'Mars': 0.6931471805599453,\n",
       " 'the': 0.0,\n",
       " 'fourth': 0.6931471805599453,\n",
       " 'Jupiter': 0.6931471805599453,\n",
       " 'Planet': 0.6931471805599453,\n",
       " 'is': 0.0,\n",
       " 'planet': 0.6931471805599453,\n",
       " 'largest': 0.6931471805599453}"
      ]
     },
     "execution_count": 27,
     "metadata": {},
     "output_type": "execute_result"
    }
   ],
   "source": [
    "idfs"
   ]
  },
  {
   "cell_type": "code",
   "execution_count": 28,
   "id": "7ed3604f",
   "metadata": {},
   "outputs": [
    {
     "name": "stdout",
     "output_type": "stream",
     "text": [
      "       from       Sun      Mars  the    fourth   Jupiter    Planet   is  \\\n",
      "0  0.000000  0.000000  0.000000  0.0  0.000000  0.138629  0.138629  0.0   \n",
      "1  0.086643  0.086643  0.086643  0.0  0.086643  0.000000  0.000000  0.0   \n",
      "\n",
      "     planet   largest  \n",
      "0  0.000000  0.138629  \n",
      "1  0.086643  0.000000  \n"
     ]
    }
   ],
   "source": [
    "def computeTFIDF(tfBagOfWords, idfs):\n",
    "    tfidf = {}\n",
    "    for word, val in tfBagOfWords.items():\n",
    "        tfidf[word] = val * idfs[word]\n",
    "    return tfidf\n",
    "\n",
    "tfidfA = computeTFIDF(tfA, idfs)\n",
    "tfidfB = computeTFIDF(tfB, idfs)\n",
    "\n",
    "# Create a DataFrame for visualization\n",
    "df = pd.DataFrame([tfidfA,tfidfB])\n",
    "print(df)"
   ]
  },
  {
   "cell_type": "code",
   "execution_count": null,
   "id": "84e8a27e",
   "metadata": {},
   "outputs": [],
   "source": []
  }
 ],
 "metadata": {
  "kernelspec": {
   "display_name": "Python 3 (ipykernel)",
   "language": "python",
   "name": "python3"
  },
  "language_info": {
   "codemirror_mode": {
    "name": "ipython",
    "version": 3
   },
   "file_extension": ".py",
   "mimetype": "text/x-python",
   "name": "python",
   "nbconvert_exporter": "python",
   "pygments_lexer": "ipython3",
   "version": "3.11.5"
  }
 },
 "nbformat": 4,
 "nbformat_minor": 5
}
